{
 "cells": [
  {
   "cell_type": "code",
   "execution_count": null,
   "metadata": {},
   "outputs": [],
   "source": [
    "import matplotlib.pyplot as plt\n",
    "import pandas as pd\n",
    "import numpy as np"
   ]
  },
  {
   "cell_type": "code",
   "execution_count": null,
   "metadata": {},
   "outputs": [],
   "source": [
    "# Import train and test data from CSV\n",
    "\n",
    "df_train = pd.read_csv(\"../data/DailyDelhiClimateTrain.csv\", parse_dates=True)\n",
    "df_test = pd.read_csv(\"../data/DailyDelhiClimateTest.csv\", parse_dates=True)"
   ]
  },
  {
   "cell_type": "code",
   "execution_count": null,
   "metadata": {},
   "outputs": [],
   "source": [
    "df_train.head()\n",
    "df_test.head()"
   ]
  },
  {
   "cell_type": "code",
   "execution_count": null,
   "metadata": {},
   "outputs": [],
   "source": [
    "df_train.describe()\n",
    "# df_test.describe()"
   ]
  },
  {
   "cell_type": "code",
   "execution_count": null,
   "metadata": {},
   "outputs": [],
   "source": [
    "# Visualization of input data before preparation\n",
    "\n",
    "df_total = df_train.append(df_test)\n",
    "\n",
    "df_total = df_total.set_index('date')\n",
    "\n",
    "fig = plt.figure(figsize=(30, 10))\n",
    "rows = 2\n",
    "columns = 2\n",
    "\n",
    "ax1 = fig.add_subplot(rows, columns, 1)\n",
    "ax1.set_title(\"Mean Temperature\")\n",
    "plt.ylabel('Classes')\n",
    "df_total[\"meantemp\"].plot()\n",
    "\n",
    "ax1 = fig.add_subplot(rows, columns, 2)\n",
    "ax1.set_title(\"Humidity\")\n",
    "df_total[\"humidity\"].plot()\n",
    "\n",
    "ax1 = fig.add_subplot(rows, columns, 3)\n",
    "ax1.set_title(\"Wind Speed\")\n",
    "df_total[\"wind_speed\"].plot()\n",
    "\n",
    "ax1 = fig.add_subplot(rows, columns, 4)\n",
    "ax1.set_title(\"Mean Pressure\")\n",
    "df_total[\"meanpressure\"].plot()\n",
    "\n",
    "plt.show()"
   ]
  },
  {
   "cell_type": "code",
   "execution_count": null,
   "metadata": {},
   "outputs": [],
   "source": [
    "# Data preparation\n",
    "\n",
    "## Detection and removal of outliers\n",
    "q_low_train = df_train[\"meanpressure\"].quantile(0.01)\n",
    "q_hi_train  = df_train[\"meanpressure\"].quantile(0.99)\n",
    "\n",
    "df_filtered_train = df_train[(df_train[\"meanpressure\"] < q_hi_train) & (df_train[\"meanpressure\"] > q_low_train)]\n",
    "\n",
    "q_low_test = df_test[\"meanpressure\"].quantile(0.01)\n",
    "q_hi_test  = df_test[\"meanpressure\"].quantile(0.99)\n",
    "\n",
    "df_filtered_test = df_test[(df_test[\"meanpressure\"] < q_hi_test) & (df_test[\"meanpressure\"] > q_low_test)]\n",
    "\n",
    "\n",
    "\n",
    "##Normalization\n",
    "df_filtered_train['meanpressure'] = np.log2(df_filtered_train['meanpressure'])\n",
    "df_filtered_test['meanpressure'] = np.log2(df_filtered_test['meanpressure'])\n",
    "\n",
    "df_filtered_test.describe()"
   ]
  }
 ],
 "metadata": {
  "kernelspec": {
   "display_name": "Python 3",
   "language": "python",
   "name": "python3"
  },
  "language_info": {
   "codemirror_mode": {
    "name": "ipython",
    "version": 3
   },
   "file_extension": ".py",
   "mimetype": "text/x-python",
   "name": "python",
   "nbconvert_exporter": "python",
   "pygments_lexer": "ipython3",
   "version": "3.9.7"
  },
  "orig_nbformat": 4
 },
 "nbformat": 4,
 "nbformat_minor": 2
}
